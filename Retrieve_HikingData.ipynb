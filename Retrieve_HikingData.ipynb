{
 "cells": [
  {
   "cell_type": "code",
   "execution_count": 1,
   "id": "b06653f1-c964-4d07-bbd2-3254a8c7853b",
   "metadata": {
    "scrolled": true
   },
   "outputs": [],
   "source": [
    "import osmnx as ox\n",
    "import geopandas as gpd\n",
    "\n",
    "# List key-value pairs for tags\n",
    "tags = {'highway': 'path'}\n",
    "\n",
    "# Get the data\n",
    "hiking_routes = ox.features_from_place('Switzerland', tags)"
   ]
  },
  {
   "cell_type": "code",
   "execution_count": 4,
   "id": "885b41a3-7a62-4715-b43e-f75b6f6ece89",
   "metadata": {},
   "outputs": [],
   "source": [
    "hiking_routes['geometry'].to_file('paths.geojson', driver = 'GeoJSON')"
   ]
  },
  {
   "cell_type": "code",
   "execution_count": 47,
   "id": "148fbacf-55af-46e3-837a-b1132dbe9db1",
   "metadata": {},
   "outputs": [],
   "source": [
    "# Filter hiking routes and export data\n",
    "hiking_filt = hiking_routes[hiking_routes['sac_scale'].apply(lambda df : 'hiking' in str(df))]\n",
    "hiking_filt['geometry'].to_file('HikingPaths_Switzerland.geojson', driver = 'GeoJSON')"
   ]
  }
 ],
 "metadata": {
  "kernelspec": {
   "display_name": "Python 3 (ipykernel)",
   "language": "python",
   "name": "python3"
  },
  "language_info": {
   "codemirror_mode": {
    "name": "ipython",
    "version": 3
   },
   "file_extension": ".py",
   "mimetype": "text/x-python",
   "name": "python",
   "nbconvert_exporter": "python",
   "pygments_lexer": "ipython3",
   "version": "3.11.4"
  },
  "widgets": {
   "application/vnd.jupyter.widget-state+json": {
    "state": {},
    "version_major": 2,
    "version_minor": 0
   }
  }
 },
 "nbformat": 4,
 "nbformat_minor": 5
}
